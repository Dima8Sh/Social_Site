{
 "cells": [
  {
   "cell_type": "markdown",
   "id": "5fd64db0",
   "metadata": {},
   "source": [
    "## Django ORM"
   ]
  },
  {
   "cell_type": "markdown",
   "id": "ccb23c5f",
   "metadata": {},
   "source": []
  },
  {
   "cell_type": "code",
   "execution_count": 2,
   "id": "ba17eea1",
   "metadata": {},
   "outputs": [],
   "source": [
    "from catalog.factories import CategoryFactory, ProductFactory"
   ]
  },
  {
   "cell_type": "code",
   "execution_count": 5,
   "id": "acfa17b1",
   "metadata": {},
   "outputs": [
    {
     "data": {
      "text/plain": [
       "<factory.faker.Faker at 0x7f33e3500430>"
      ]
     },
     "execution_count": 5,
     "metadata": {},
     "output_type": "execute_result"
    }
   ],
   "source": [
    "CategoryFactory.create_batch(10)"
   ]
  },
  {
   "cell_type": "code",
   "execution_count": 3,
   "id": "df8081a9",
   "metadata": {},
   "outputs": [],
   "source": [
    "for category in Category.objects.all():\n",
    "    ProductFactory.create_batch(10, category=category)"
   ]
  },
  {
   "cell_type": "code",
   "execution_count": 10,
   "id": "79b56051",
   "metadata": {},
   "outputs": [],
   "source": [
    "def my_func(*, a, b):\n",
    "    return a + b"
   ]
  },
  {
   "cell_type": "code",
   "execution_count": 11,
   "id": "de65ee4c",
   "metadata": {},
   "outputs": [
    {
     "ename": "TypeError",
     "evalue": "my_func() takes 0 positional arguments but 2 were given",
     "output_type": "error",
     "traceback": [
      "\u001b[0;31m---------------------------------------------------------------------------\u001b[0m",
      "\u001b[0;31mTypeError\u001b[0m                                 Traceback (most recent call last)",
      "\u001b[0;32m/tmp/ipykernel_320881/2007984885.py\u001b[0m in \u001b[0;36m<module>\u001b[0;34m\u001b[0m\n\u001b[0;32m----> 1\u001b[0;31m \u001b[0mmy_func\u001b[0m\u001b[0;34m(\u001b[0m\u001b[0;36m1\u001b[0m\u001b[0;34m,\u001b[0m \u001b[0;36m2\u001b[0m\u001b[0;34m)\u001b[0m\u001b[0;34m\u001b[0m\u001b[0;34m\u001b[0m\u001b[0m\n\u001b[0m",
      "\u001b[0;31mTypeError\u001b[0m: my_func() takes 0 positional arguments but 2 were given"
     ]
    }
   ],
   "source": [
    "my_func(a=1, b=2)"
   ]
  },
  {
   "cell_type": "code",
   "execution_count": null,
   "id": "49e04a1a",
   "metadata": {},
   "outputs": [],
   "source": [
    "from catalog.models import Product\n",
    "\n",
    "\n",
    "def get_last_products(*, queryset=Product.objects.all(), count_products=5):\n",
    "    return queryset.order_by('-id')[:5]"
   ]
  },
  {
   "cell_type": "code",
   "execution_count": null,
   "id": "d240c2d4",
   "metadata": {},
   "outputs": [],
   "source": []
  },
  {
   "cell_type": "code",
   "execution_count": null,
   "id": "6bd7ea01",
   "metadata": {},
   "outputs": [],
   "source": []
  },
  {
   "cell_type": "code",
   "execution_count": null,
   "id": "598f8aef",
   "metadata": {},
   "outputs": [],
   "source": []
  },
  {
   "cell_type": "code",
   "execution_count": null,
   "id": "2d150277",
   "metadata": {},
   "outputs": [],
   "source": []
  },
  {
   "cell_type": "code",
   "execution_count": null,
   "id": "9cdfeed0",
   "metadata": {},
   "outputs": [],
   "source": []
  },
  {
   "cell_type": "code",
   "execution_count": null,
   "id": "17193d78",
   "metadata": {},
   "outputs": [],
   "source": []
  }
 ],
 "metadata": {
  "kernelspec": {
   "display_name": "Django Shell-Plus",
   "language": "python",
   "name": "django_extensions"
  },
  "language_info": {
   "codemirror_mode": {
    "name": "ipython",
    "version": 3
   },
   "file_extension": ".py",
   "mimetype": "text/x-python",
   "name": "python",
   "nbconvert_exporter": "python",
   "pygments_lexer": "ipython3",
   "version": "3.8.10"
  }
 },
 "nbformat": 4,
 "nbformat_minor": 5
}
